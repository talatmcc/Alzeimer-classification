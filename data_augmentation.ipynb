{
 "cells": [
  {
   "cell_type": "code",
   "execution_count": null,
   "metadata": {},
   "outputs": [],
   "source": [
    "import zipfile\n",
    "import random\n",
    "import tensorflow as tf\n",
    "from tensorflow import keras\n",
    "import h5py\n",
    "import os\n",
    "import numpy as np\n",
    "from keras.models import Sequential\n",
    "from keras.layers import Activation, Dropout, Flatten, Dense, BatchNormalization\n",
    "from keras.layers import Conv2D, MaxPooling2D, ZeroPadding2D\n",
    "from keras.preprocessing.image import ImageDataGenerator\n",
    "from keras import optimizers\n",
    "import scipy\n",
    "import matplotlib.cm as cm\n",
    "import matplotlib.pyplot as plt\n",
    "import seaborn as sns\n",
    "import cv2\n",
    "import glob\n",
    "from sklearn.model_selection import train_test_split\n",
    "from imblearn.over_sampling import SMOTE\n",
    "from tensorflow.keras.preprocessing.image import ImageDataGenerator, array_to_img, img_to_array, load_img\n",
    "import imageio"
   ]
  },
  {
   "cell_type": "code",
   "execution_count": 2,
   "metadata": {},
   "outputs": [
    {
     "name": "stdout",
     "output_type": "stream",
     "text": [
      "zipfile is installed.\n",
      "random is installed.\n",
      "tensorflow is NOT installed.\n",
      "h5py is NOT installed.\n",
      "os is installed.\n",
      "numpy is NOT installed.\n",
      "keras is NOT installed.\n",
      "scipy is NOT installed.\n",
      "matplotlib is NOT installed.\n",
      "seaborn is NOT installed.\n",
      "cv2 is NOT installed.\n",
      "glob is installed.\n",
      "sklearn is NOT installed.\n",
      "imblearn is NOT installed.\n",
      "imageio is NOT installed.\n"
     ]
    }
   ],
   "source": [
    "import importlib\n",
    "\n",
    "requirements = [\n",
    "    \"zipfile\",\n",
    "    \"random\",\n",
    "    \"tensorflow\",\n",
    "    \"h5py\",\n",
    "    \"os\",\n",
    "    \"numpy\",\n",
    "    \"keras\",\n",
    "    \"scipy\",\n",
    "    \"matplotlib\",\n",
    "    \"seaborn\",\n",
    "    \"cv2\",\n",
    "    \"glob\",\n",
    "    \"sklearn\",\n",
    "    \"imblearn\",\n",
    "    \"imageio\"\n",
    "]\n",
    "\n",
    "for requirement in requirements:\n",
    "    try:\n",
    "        importlib.import_module(requirement)\n",
    "        print(f\"{requirement} is installed.\")\n",
    "    except ImportError:\n",
    "        print(f\"{requirement} is NOT installed.\")"
   ]
  }
 ],
 "metadata": {
  "kernelspec": {
   "display_name": "env",
   "language": "python",
   "name": "python3"
  },
  "language_info": {
   "codemirror_mode": {
    "name": "ipython",
    "version": 3
   },
   "file_extension": ".py",
   "mimetype": "text/x-python",
   "name": "python",
   "nbconvert_exporter": "python",
   "pygments_lexer": "ipython3",
   "version": "3.11.9"
  }
 },
 "nbformat": 4,
 "nbformat_minor": 2
}
