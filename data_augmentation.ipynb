{
 "cells": [
  {
   "cell_type": "code",
   "execution_count": 20,
   "metadata": {},
   "outputs": [],
   "source": [
    "import zipfile\n",
    "import random\n",
    "import tensorflow as tf\n",
    "from tensorflow import keras\n",
    "import h5py\n",
    "import os\n",
    "import numpy as np\n",
    "from tensorflow.keras.models import Sequential\n",
    "from tensorflow.keras.layers import Activation, Dropout, Flatten, Dense, BatchNormalization\n",
    "from tensorflow.keras.layers import Conv2D, MaxPooling2D, ZeroPadding2D\n",
    "from tensorflow.keras.preprocessing.image import ImageDataGenerator\n",
    "from tensorflow.keras import optimizers\n",
    "import scipy\n",
    "import matplotlib.cm as cm\n",
    "import matplotlib.pyplot as plt\n",
    "import seaborn as sns\n",
    "import cv2\n",
    "import glob\n",
    "from sklearn.model_selection import train_test_split\n",
    "from imblearn.over_sampling import SMOTE\n",
    "from tensorflow.keras.preprocessing.image import array_to_img, img_to_array, load_img\n",
    "import imageio"
   ]
  },
  {
   "cell_type": "code",
   "execution_count": 21,
   "metadata": {},
   "outputs": [
    {
     "name": "stdout",
     "output_type": "stream",
     "text": [
      "zipfile is installed.\n",
      "random is installed.\n",
      "tensorflow is installed.\n",
      "h5py is installed.\n",
      "os is installed.\n",
      "numpy is installed.\n",
      "keras is installed.\n",
      "scipy is installed.\n",
      "matplotlib is installed.\n",
      "seaborn is installed.\n",
      "cv2 is installed.\n",
      "glob is installed.\n",
      "sklearn is installed.\n",
      "imblearn is installed.\n",
      "imageio is installed.\n"
     ]
    }
   ],
   "source": [
    "import importlib\n",
    "\n",
    "requirements = [\n",
    "    \"zipfile\",\n",
    "    \"random\",\n",
    "    \"tensorflow\",\n",
    "    \"h5py\",\n",
    "    \"os\",\n",
    "    \"numpy\",\n",
    "    \"keras\",\n",
    "    \"scipy\",\n",
    "    \"matplotlib\",\n",
    "    \"seaborn\",\n",
    "    \"cv2\",\n",
    "    \"glob\",\n",
    "    \"sklearn\",\n",
    "    \"imblearn\",\n",
    "    \"imageio\"\n",
    "]\n",
    "\n",
    "for requirement in requirements:\n",
    "    try:\n",
    "        importlib.import_module(requirement)\n",
    "        print(f\"{requirement} is installed.\")\n",
    "    except ImportError:\n",
    "        print(f\"{requirement} is NOT installed.\")"
   ]
  },
  {
   "cell_type": "code",
   "execution_count": 22,
   "metadata": {},
   "outputs": [],
   "source": [
    "# Define paths for training and testing 'MildDemented' images\n",
    "train_mild_demented_folder = 'Alzheimer_s Dataset/train/MildDemented'\n",
    "test_mild_demented_folder = 'Alzheimer_s Dataset/test/MildDemented'\n",
    "\n",
    "# Loading MildDemented images from the training dataset\n",
    "mild_demented_images = []\n",
    "\n",
    "# Load images from the train folder (similarly, you can do for the test folder if needed)\n",
    "for image_file in os.listdir(train_mild_demented_folder):\n",
    "    image_path = os.path.join(train_mild_demented_folder, image_file)\n",
    "    \n",
    "    # Check if the file is an image (you can add file extension checks if needed)\n",
    "    if image_file.endswith(('.jpg', '.png', '.jpeg')):  # Add extensions as per your image type\n",
    "        image = cv2.imread(image_path)  # Read the image\n",
    "        if image is not None:\n",
    "            # Convert image from BGR (OpenCV default) to RGB\n",
    "            image_rgb = cv2.cvtColor(image, cv2.COLOR_BGR2RGB)  \n",
    "            \n",
    "            # Resize the image to 224x224\n",
    "            resized_image = cv2.resize(image_rgb, (224, 224))\n",
    "            \n",
    "            # Append the resized image to the list\n",
    "            mild_demented_images.append(resized_image)\n",
    "\n",
    "# Now 'mild_demented_images' contains all processed 'MildDemented' images from the training folder\n"
   ]
  },
  {
   "cell_type": "code",
   "execution_count": 23,
   "metadata": {},
   "outputs": [],
   "source": [
    "# Define paths for training and testing 'ModerateDemented' images\n",
    "train_moderate_demented_folder = 'Alzheimer_s Dataset/train/ModerateDemented'\n",
    "test_moderate_demented_folder = 'Alzheimer_s Dataset/test/ModerateDemented'\n",
    "\n",
    "# Loading ModerateDemented images from the training dataset\n",
    "moderate_demented_images = []\n",
    "\n",
    "# Load images from the train folder (similarly, you can do for the test folder if needed)\n",
    "for image_file in os.listdir(train_moderate_demented_folder):\n",
    "    image_path = os.path.join(train_moderate_demented_folder, image_file)\n",
    "    \n",
    "    # Check if the file is an image (you can add file extension checks if needed)\n",
    "    if image_file.endswith(('.jpg', '.png', '.jpeg')):  # Add extensions as per your image type\n",
    "        image = cv2.imread(image_path)  # Read the image\n",
    "        if image is not None:\n",
    "            # Convert image from BGR (OpenCV default) to RGB\n",
    "            image_rgb = cv2.cvtColor(image, cv2.COLOR_BGR2RGB)  \n",
    "            \n",
    "            # Resize the image to 224x224\n",
    "            resized_image = cv2.resize(image_rgb, (224, 224))\n",
    "            \n",
    "            # Append the resized image to the list\n",
    "            moderate_demented_images.append(resized_image)\n",
    "\n",
    "# Now 'moderate_demented_images' contains all processed 'ModerateDemented' images from the training folder\n"
   ]
  },
  {
   "cell_type": "code",
   "execution_count": 24,
   "metadata": {},
   "outputs": [],
   "source": [
    "# Define paths for training and testing 'ModerateDemented' images\n",
    "train_non_demented_folder = 'Alzheimer_s Dataset/train/NonDemented'\n",
    "test_non_demented_folder = 'Alzheimer_s Dataset/test/NonDemented'\n",
    "\n",
    "# Loading ModerateDemented images from the training dataset\n",
    "non_demented_images = []\n",
    "\n",
    "# Load images from the train folder (similarly, you can do for the test folder if needed)\n",
    "for image_file in os.listdir(train_non_demented_folder):\n",
    "    image_path = os.path.join(train_non_demented_folder, image_file)\n",
    "    \n",
    "    # Check if the file is an image (you can add file extension checks if needed)\n",
    "    if image_file.endswith(('.jpg', '.png', '.jpeg')):  # Add extensions as per your image type\n",
    "        image = cv2.imread(image_path)  # Read the image\n",
    "        if image is not None:\n",
    "            # Convert image from BGR (OpenCV default) to RGB\n",
    "            image_rgb = cv2.cvtColor(image, cv2.COLOR_BGR2RGB)  \n",
    "            \n",
    "            # Resize the image to 224x224\n",
    "            resized_image = cv2.resize(image_rgb, (224, 224))\n",
    "            \n",
    "            # Append the resized image to the list\n",
    "            non_demented_images.append(resized_image)\n",
    "\n",
    "# Now 'non_demented_images' contains all processed 'NonDemented' images from the training folder\n"
   ]
  },
  {
   "cell_type": "code",
   "execution_count": 25,
   "metadata": {},
   "outputs": [],
   "source": [
    "# Define paths for training and testing 'MildDemented' images\n",
    "train_very_mild_demented_folder = 'Alzheimer_s Dataset/train/VeryMildDemented'\n",
    "test_very_mild_demented_folder = 'Alzheimer_s Dataset/test/VeryMildDemented'\n",
    "\n",
    "# Loading MildDemented images from the training dataset\n",
    "very_mild_demented_images = []\n",
    "\n",
    "# Load images from the train folder (similarly, you can do for the test folder if needed)\n",
    "for image_file in os.listdir(train_very_mild_demented_folder):\n",
    "    image_path = os.path.join(train_very_mild_demented_folder, image_file)\n",
    "    \n",
    "    # Check if the file is an image (you can add file extension checks if needed)\n",
    "    if image_file.endswith(('.jpg', '.png', '.jpeg')):  # Add extensions as per your image type\n",
    "        image = cv2.imread(image_path)  # Read the image\n",
    "        if image is not None:\n",
    "            # Convert image from BGR (OpenCV default) to RGB\n",
    "            image_rgb = cv2.cvtColor(image, cv2.COLOR_BGR2RGB)  \n",
    "            \n",
    "            # Resize the image to 224x224\n",
    "            resized_image = cv2.resize(image_rgb, (224, 224))\n",
    "            \n",
    "            # Append the resized image to the list\n",
    "            very_mild_demented_images.append(resized_image)\n",
    "\n",
    "# Now 'very_mild_demented_images' contains all processed 'VeryMildDemented' images from the training folder\n"
   ]
  },
  {
   "cell_type": "code",
   "execution_count": 26,
   "metadata": {},
   "outputs": [],
   "source": [
    "# Converting the image data to numpy arrays\n",
    "\n",
    "mild_demented_images = np.array(mild_demented_images)\n",
    "moderate_demented_images = np.array(moderate_demented_images)\n",
    "non_demented_images = np.array(non_demented_images)\n",
    "very_mild_demented_images = np.array(very_mild_demented_images)"
   ]
  },
  {
   "cell_type": "code",
   "execution_count": 27,
   "metadata": {},
   "outputs": [
    {
     "name": "stdout",
     "output_type": "stream",
     "text": [
      "(717, 224, 224, 3)\n",
      "(52, 224, 224, 3)\n",
      "(2560, 224, 224, 3)\n",
      "(1792, 224, 224, 3)\n"
     ]
    }
   ],
   "source": [
    "print(mild_demented_images.shape)\n",
    "print(moderate_demented_images.shape)\n",
    "print(non_demented_images.shape)\n",
    "print(very_mild_demented_images.shape)"
   ]
  },
  {
   "cell_type": "code",
   "execution_count": 28,
   "metadata": {},
   "outputs": [],
   "source": [
    "gen = ImageDataGenerator(\n",
    "    rotation_range=10, \n",
    "    width_shift_range=0.1, \n",
    "    height_shift_range=0.1, \n",
    "    shear_range=0.15, \n",
    "    zoom_range=0.1, \n",
    "    channel_shift_range=10., \n",
    "    horizontal_flip=True\n",
    ")"
   ]
  },
  {
   "cell_type": "code",
   "execution_count": 29,
   "metadata": {},
   "outputs": [],
   "source": [
    "aug_mild_demented_num_images_to_save = 3000-mild_demented_images.shape[0]"
   ]
  },
  {
   "cell_type": "code",
   "execution_count": 30,
   "metadata": {},
   "outputs": [],
   "source": [
    "#Augmentation for MildDemented images\n",
    "aug_mild_demented_images = []\n",
    "for i in range (mild_demented_images.shape[0]):\n",
    "    image = mild_demented_images[i]\n",
    "    image = np.expand_dims(image,0)\n",
    "    aug_iter = gen.flow(image)\n",
    "    for j in range(4):\n",
    "        aug_mild_demented_image = next(aug_iter)[0].astype(np.uint8)\n",
    "        aug_mild_demented_images.append(aug_mild_demented_image)\n",
    "\n",
    "        \n",
    "aug_mild_demented_images = np.array(aug_mild_demented_images)\n",
    "# aug_mild_demented_images.shape\n",
    "#plt.imshow(aug_images[0]) #works\n",
    "# augmented_mild_demented_images = np.concatenate((mild_demented_images, aug_mild_demented_images), axis=0)\n",
    "# augmented_mild_demented_images = augmented_mild_demented_images[:5000] #num_samples=3000 ta rakhbe first theke\n",
    "# augmented_mild_demented_images.shape"
   ]
  },
  {
   "cell_type": "code",
   "execution_count": 31,
   "metadata": {},
   "outputs": [
    {
     "name": "stdout",
     "output_type": "stream",
     "text": [
      "Augmented images saved to Alzheimer_s Dataset/train/MildDemented.\n"
     ]
    }
   ],
   "source": [
    "from PIL import Image\n",
    "\n",
    "# Folder where the original mild_demented images are saved\n",
    "mild_demented_save_directory = 'Alzheimer_s Dataset/train/MildDemented'\n",
    "\n",
    "# Ensure the directory exists\n",
    "if not os.path.exists(mild_demented_save_directory):\n",
    "    os.makedirs(mild_demented_save_directory)\n",
    "\n",
    "# Iterate through the augmented images and save them in the same folder\n",
    "for i, img in enumerate(aug_mild_demented_images[:aug_mild_demented_num_images_to_save]):\n",
    "    # Convert the NumPy array back to an image\n",
    "    img = Image.fromarray(img)\n",
    "    \n",
    "    # Define the filename (you can choose a different naming scheme)\n",
    "    img_filename = os.path.join(mild_demented_save_directory, f\"augMildDem{i}.png\")\n",
    "    \n",
    "    # Save the image to the directory\n",
    "    img.save(img_filename)\n",
    "\n",
    "print(f\"Augmented images saved to {mild_demented_save_directory}.\")\n"
   ]
  },
  {
   "cell_type": "code",
   "execution_count": 32,
   "metadata": {},
   "outputs": [],
   "source": [
    "aug_moderate_demented_num_images_to_save = 3000-moderate_demented_images.shape[0]"
   ]
  },
  {
   "cell_type": "code",
   "execution_count": 33,
   "metadata": {},
   "outputs": [],
   "source": [
    "#Augmentation for ModerateDemented images\n",
    "aug_moderate_demented_images = []\n",
    "for i in range (moderate_demented_images.shape[0]):\n",
    "    image = moderate_demented_images[i]\n",
    "    image = np.expand_dims(image,0)\n",
    "    aug_iter = gen.flow(image)\n",
    "    for j in range(5):\n",
    "        aug_moderate_demented_image = next(aug_iter)[0].astype(np.uint8)\n",
    "        aug_moderate_demented_images.append(aug_moderate_demented_image)\n",
    "        \n",
    "aug_moderate_demented_images = np.array(aug_moderate_demented_images)\n",
    "# aug_moderate_demented_images.shape\n",
    "#plt.imshow(aug_images[0]) #works\n",
    "# augmented_moderate_demented_images = np.concatenate((moderate_demented_images, aug_moderate_demented_images), axis=0)\n",
    "# augmented_moderate_demented_images = augmented_moderate_demented_images[:5000]\n",
    "# augmented_moderate_demented_images.shape"
   ]
  },
  {
   "cell_type": "code",
   "execution_count": 34,
   "metadata": {},
   "outputs": [
    {
     "name": "stdout",
     "output_type": "stream",
     "text": [
      "Augmented images saved to Alzheimer_s Dataset/train/ModerateDemented.\n"
     ]
    }
   ],
   "source": [
    "from PIL import Image\n",
    "\n",
    "# Folder where the original moderate_demented images are saved\n",
    "moderate_save_directory = 'Alzheimer_s Dataset/train/ModerateDemented'\n",
    "\n",
    "# Ensure the directory exists\n",
    "if not os.path.exists(moderate_save_directory):\n",
    "    os.makedirs(moderate_save_directory)\n",
    "\n",
    "# Iterate through the augmented images and save them in the same folder\n",
    "for i, img in enumerate(aug_mild_demented_images[:aug_moderate_demented_num_images_to_save]):\n",
    "    # Convert the NumPy array back to an image\n",
    "    img = Image.fromarray(img)\n",
    "    \n",
    "    # Define the filename (you can choose a different naming scheme)\n",
    "    img_filename = os.path.join(moderate_save_directory, f\"augModerateDem{i}.png\")\n",
    "    \n",
    "    # Save the image to the directory\n",
    "    img.save(img_filename)\n",
    "\n",
    "print(f\"Augmented images saved to {moderate_save_directory}.\")\n"
   ]
  },
  {
   "cell_type": "code",
   "execution_count": 35,
   "metadata": {},
   "outputs": [
    {
     "name": "stdout",
     "output_type": "stream",
     "text": [
      "Augmented images saved to Alzheimer_s Dataset/train/NonDemented.\n"
     ]
    }
   ],
   "source": [
    "aug_non_demented_num_images_to_save = 3000-non_demented_images.shape[0]\n",
    "\n",
    "#Augmentation for NonDemented images\n",
    "aug_non_demented_images = []\n",
    "for i in range (non_demented_images.shape[0]):\n",
    "    image = non_demented_images[i]\n",
    "    image = np.expand_dims(image,0)\n",
    "    aug_iter = gen.flow(image)\n",
    "    for j in range(5):\n",
    "        aug_non_demented_image = next(aug_iter)[0].astype(np.uint8)\n",
    "        aug_non_demented_images.append(aug_non_demented_image)\n",
    "        \n",
    "aug_non_demented_images = np.array(aug_non_demented_images)\n",
    "# aug_non_demented_images.shape\n",
    "#plt.imshow(aug_images[0]) #works\n",
    "# augmented_non_demented_images = np.concatenate((non_demented_images, aug_non_demented_images), axis=0)\n",
    "# augmented_non_demented_images = augmented_non_demented_images[:5000]\n",
    "# augmented_non_demented_images.shape\n",
    "\n",
    "# Folder where the original non_demented images are saved\n",
    "non_demented_save_directory = 'Alzheimer_s Dataset/train/NonDemented'\n",
    "\n",
    "# Ensure the directory exists\n",
    "if not os.path.exists(non_demented_save_directory):\n",
    "    os.makedirs(non_demented_save_directory)\n",
    "\n",
    "# Iterate through the augmented images and save them in the same folder\n",
    "for i, img in enumerate(aug_non_demented_images[:aug_non_demented_num_images_to_save]):\n",
    "    # Convert the NumPy array back to an image\n",
    "    img = Image.fromarray(img)\n",
    "    \n",
    "    # Define the filename (you can choose a different naming scheme)\n",
    "    img_filename = os.path.join(non_demented_save_directory, f\"augNonDem{i}.png\")\n",
    "    \n",
    "    # Save the image to the directory\n",
    "    img.save(img_filename)\n",
    "\n",
    "print(f\"Augmented images saved to {non_demented_save_directory}.\")\n"
   ]
  },
  {
   "cell_type": "code",
   "execution_count": 36,
   "metadata": {},
   "outputs": [
    {
     "name": "stdout",
     "output_type": "stream",
     "text": [
      "Augmented images saved to Alzheimer_s Dataset/train/VeryMildDemented.\n"
     ]
    }
   ],
   "source": [
    "aug_very_mild_demented_num_images_to_save = 3000-very_mild_demented_images.shape[0]\n",
    "\n",
    "#Augmentation for VeryMildDemented images\n",
    "aug_very_mild_demented_images = []\n",
    "for i in range (very_mild_demented_images.shape[0]):\n",
    "    image = very_mild_demented_images[i]\n",
    "    image = np.expand_dims(image,0)\n",
    "    aug_iter = gen.flow(image)\n",
    "    for j in range(5):\n",
    "        aug_very_mild_demented_image = next(aug_iter)[0].astype(np.uint8)\n",
    "        aug_very_mild_demented_images.append(aug_very_mild_demented_image)\n",
    "        \n",
    "aug_very_mild_demented_images = np.array(aug_very_mild_demented_images)\n",
    "# aug_very_mild_demented_images.shape\n",
    "#plt.imshow(aug_images[0]) #works\n",
    "# augmented_very_mild_demented_images = np.concatenate((very_mild_demented_images, aug_very_mild_demented_images), axis=0)\n",
    "# augmented_very_mild_demented_images = aug_very_mild_demented_images[:5000]\n",
    "# augmented_very_mild_demented_images.shape\n",
    "\n",
    "# Folder where the original non_demented images are saved\n",
    "very_mild_demented_save_directory = 'Alzheimer_s Dataset/train/VeryMildDemented'\n",
    "\n",
    "# Ensure the directory exists\n",
    "if not os.path.exists(very_mild_demented_save_directory):\n",
    "    os.makedirs(very_mild_demented_save_directory)\n",
    "\n",
    "# Iterate through the augmented images and save them in the same folder\n",
    "for i, img in enumerate(aug_very_mild_demented_images[:aug_very_mild_demented_num_images_to_save]):\n",
    "    # Convert the NumPy array back to an image\n",
    "    img = Image.fromarray(img)\n",
    "    \n",
    "    # Define the filename (you can choose a different naming scheme)\n",
    "    img_filename = os.path.join(very_mild_demented_save_directory, f\"augVeryMildDem{i}.png\")\n",
    "    \n",
    "    # Save the image to the directory\n",
    "    img.save(img_filename)\n",
    "\n",
    "print(f\"Augmented images saved to {very_mild_demented_save_directory}.\")\n"
   ]
  }
 ],
 "metadata": {
  "kernelspec": {
   "display_name": "env",
   "language": "python",
   "name": "python3"
  },
  "language_info": {
   "codemirror_mode": {
    "name": "ipython",
    "version": 3
   },
   "file_extension": ".py",
   "mimetype": "text/x-python",
   "name": "python",
   "nbconvert_exporter": "python",
   "pygments_lexer": "ipython3",
   "version": "3.11.9"
  }
 },
 "nbformat": 4,
 "nbformat_minor": 2
}
